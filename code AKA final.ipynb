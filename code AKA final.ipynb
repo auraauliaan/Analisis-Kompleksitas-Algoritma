{
 "cells": [
  {
   "cell_type": "markdown",
   "metadata": {},
   "source": [
    "# Analisis Perbandingan Kinerja Metode Iterative dan Rekursif dalam Sistem Perhitungan Aplikasi Konversi Tarif Pengiriman Paket"
   ]
  },
  {
   "cell_type": "markdown",
   "metadata": {},
   "source": [
    "# Business Understanding(Topik)"
   ]
  },
  {
   "cell_type": "markdown",
   "metadata": {},
   "source": [
    "**Konversi berat paket, berat volumetrik, dan ukuran dimensi untuk perhitungan tarif pengiriman**\n",
    "\n",
    "Misalnya, perusahaan pengiriman memiliki tarif berdasarkan berat barang, berat volumetrik, dan ukuran dimensi. Kita menghitung running time perhitungan tarif pengiriman pada metode algoritma iteratif dan rekursif"
   ]
  },
  {
   "cell_type": "markdown",
   "metadata": {},
   "source": [
    "# Case Understanding (Soal)"
   ]
  },
  {
   "cell_type": "markdown",
   "metadata": {},
   "source": [
    "Pembuatan algoritma iteratif dan rekursif untuk topik yang telah dipilih. Lakukan analisis kompleksitas waktu, running time, menentukan kelas kompleksitas waktu, menggambarkan grafik, dan menentukan kelas kompleksitas masing-masing algoritma."
   ]
  },
  {
   "cell_type": "markdown",
   "metadata": {},
   "source": [
    "## Load Data"
   ]
  },
  {
   "cell_type": "code",
   "execution_count": 1,
   "metadata": {},
   "outputs": [
    {
     "data": {
      "text/html": [
       "<div>\n",
       "<style scoped>\n",
       "    .dataframe tbody tr th:only-of-type {\n",
       "        vertical-align: middle;\n",
       "    }\n",
       "\n",
       "    .dataframe tbody tr th {\n",
       "        vertical-align: top;\n",
       "    }\n",
       "\n",
       "    .dataframe thead th {\n",
       "        text-align: right;\n",
       "    }\n",
       "</style>\n",
       "<table border=\"1\" class=\"dataframe\">\n",
       "  <thead>\n",
       "    <tr style=\"text-align: right;\">\n",
       "      <th></th>\n",
       "      <th>ID Pengiriman</th>\n",
       "      <th>Asal</th>\n",
       "      <th>Tujuan</th>\n",
       "      <th>Berat Barang (kg)</th>\n",
       "      <th>Dimensi Barang (cm)</th>\n",
       "      <th>Layanan</th>\n",
       "      <th>Berat Volumetrik (kg)</th>\n",
       "    </tr>\n",
       "  </thead>\n",
       "  <tbody>\n",
       "    <tr>\n",
       "      <th>0</th>\n",
       "      <td>JNE001</td>\n",
       "      <td>Yogyakarta</td>\n",
       "      <td>Makassar</td>\n",
       "      <td>0.7</td>\n",
       "      <td>19x30x33</td>\n",
       "      <td>REG</td>\n",
       "      <td>3.1</td>\n",
       "    </tr>\n",
       "    <tr>\n",
       "      <th>1</th>\n",
       "      <td>JNE002</td>\n",
       "      <td>Bali</td>\n",
       "      <td>Bandung</td>\n",
       "      <td>2.9</td>\n",
       "      <td>12x20x47</td>\n",
       "      <td>OKE</td>\n",
       "      <td>1.9</td>\n",
       "    </tr>\n",
       "    <tr>\n",
       "      <th>2</th>\n",
       "      <td>JNE003</td>\n",
       "      <td>Bali</td>\n",
       "      <td>Jakarta</td>\n",
       "      <td>1.7</td>\n",
       "      <td>17x29x28</td>\n",
       "      <td>REG</td>\n",
       "      <td>2.3</td>\n",
       "    </tr>\n",
       "    <tr>\n",
       "      <th>3</th>\n",
       "      <td>JNE004</td>\n",
       "      <td>Semarang</td>\n",
       "      <td>Balikpapan</td>\n",
       "      <td>8.8</td>\n",
       "      <td>35x46x35</td>\n",
       "      <td>YES</td>\n",
       "      <td>9.4</td>\n",
       "    </tr>\n",
       "    <tr>\n",
       "      <th>4</th>\n",
       "      <td>JNE005</td>\n",
       "      <td>Medan</td>\n",
       "      <td>Bali</td>\n",
       "      <td>5.3</td>\n",
       "      <td>46x19x34</td>\n",
       "      <td>OKE</td>\n",
       "      <td>5.0</td>\n",
       "    </tr>\n",
       "    <tr>\n",
       "      <th>...</th>\n",
       "      <td>...</td>\n",
       "      <td>...</td>\n",
       "      <td>...</td>\n",
       "      <td>...</td>\n",
       "      <td>...</td>\n",
       "      <td>...</td>\n",
       "      <td>...</td>\n",
       "    </tr>\n",
       "    <tr>\n",
       "      <th>95</th>\n",
       "      <td>JNE096</td>\n",
       "      <td>Bali</td>\n",
       "      <td>Makassar</td>\n",
       "      <td>10.0</td>\n",
       "      <td>32x38x39</td>\n",
       "      <td>OKE</td>\n",
       "      <td>7.9</td>\n",
       "    </tr>\n",
       "    <tr>\n",
       "      <th>96</th>\n",
       "      <td>JNE097</td>\n",
       "      <td>Bali</td>\n",
       "      <td>Medan</td>\n",
       "      <td>1.0</td>\n",
       "      <td>10x15x38</td>\n",
       "      <td>REG</td>\n",
       "      <td>0.9</td>\n",
       "    </tr>\n",
       "    <tr>\n",
       "      <th>97</th>\n",
       "      <td>JNE098</td>\n",
       "      <td>Yogyakarta</td>\n",
       "      <td>Bali</td>\n",
       "      <td>5.8</td>\n",
       "      <td>20x46x28</td>\n",
       "      <td>REG</td>\n",
       "      <td>4.3</td>\n",
       "    </tr>\n",
       "    <tr>\n",
       "      <th>98</th>\n",
       "      <td>JNE099</td>\n",
       "      <td>Jakarta</td>\n",
       "      <td>Yogyakarta</td>\n",
       "      <td>9.7</td>\n",
       "      <td>50x18x43</td>\n",
       "      <td>YES</td>\n",
       "      <td>6.5</td>\n",
       "    </tr>\n",
       "    <tr>\n",
       "      <th>99</th>\n",
       "      <td>JNE100</td>\n",
       "      <td>Medan</td>\n",
       "      <td>Makassar</td>\n",
       "      <td>6.7</td>\n",
       "      <td>12x13x33</td>\n",
       "      <td>REG</td>\n",
       "      <td>0.9</td>\n",
       "    </tr>\n",
       "  </tbody>\n",
       "</table>\n",
       "<p>100 rows × 7 columns</p>\n",
       "</div>"
      ],
      "text/plain": [
       "   ID Pengiriman        Asal      Tujuan  Berat Barang (kg)  \\\n",
       "0         JNE001  Yogyakarta    Makassar                0.7   \n",
       "1         JNE002        Bali     Bandung                2.9   \n",
       "2         JNE003        Bali     Jakarta                1.7   \n",
       "3         JNE004    Semarang  Balikpapan                8.8   \n",
       "4         JNE005       Medan        Bali                5.3   \n",
       "..           ...         ...         ...                ...   \n",
       "95        JNE096        Bali    Makassar               10.0   \n",
       "96        JNE097        Bali       Medan                1.0   \n",
       "97        JNE098  Yogyakarta        Bali                5.8   \n",
       "98        JNE099     Jakarta  Yogyakarta                9.7   \n",
       "99        JNE100       Medan    Makassar                6.7   \n",
       "\n",
       "   Dimensi Barang (cm) Layanan  Berat Volumetrik (kg)  \n",
       "0             19x30x33     REG                    3.1  \n",
       "1             12x20x47     OKE                    1.9  \n",
       "2             17x29x28     REG                    2.3  \n",
       "3             35x46x35     YES                    9.4  \n",
       "4             46x19x34     OKE                    5.0  \n",
       "..                 ...     ...                    ...  \n",
       "95            32x38x39     OKE                    7.9  \n",
       "96            10x15x38     REG                    0.9  \n",
       "97            20x46x28     REG                    4.3  \n",
       "98            50x18x43     YES                    6.5  \n",
       "99            12x13x33     REG                    0.9  \n",
       "\n",
       "[100 rows x 7 columns]"
      ]
     },
     "execution_count": 1,
     "metadata": {},
     "output_type": "execute_result"
    }
   ],
   "source": [
    "import pandas as pd # untuk membaca dataset\n",
    "df = pd.read_csv('JNE_dummy_dataset_no_tarif.csv')\n",
    "df"
   ]
  },
  {
   "cell_type": "markdown",
   "metadata": {},
   "source": [
    "## Daftar Harga (ketentuan)"
   ]
  },
  {
   "cell_type": "code",
   "execution_count": 2,
   "metadata": {},
   "outputs": [],
   "source": [
    "harga_barang = 10000  # harga barang per kg = 10000\n",
    "harga_dimensi = 500  # harga setiap total dimensi (cm) = 500\n",
    "harga_volumetrik = 5000  # harga volumetrik per kg = 5000"
   ]
  },
  {
   "cell_type": "markdown",
   "metadata": {},
   "source": [
    "# Iteratif"
   ]
  },
  {
   "cell_type": "code",
   "execution_count": 16,
   "metadata": {},
   "outputs": [
    {
     "name": "stdout",
     "output_type": "stream",
     "text": [
      "Waktu iteratif [25, 50, 75, 100]: ['0.0101', '0.0115', '0.0422', '0.0285']\n"
     ]
    }
   ],
   "source": [
    "import time  # untuk menghitung running time\n",
    "import pandas as pd\n",
    "\n",
    "# sesuaikan ketentuan daftar harga\n",
    "harga_barang = 10000  # harga barang per kg = 10000\n",
    "harga_dimensi = 500   # harga setiap total dimensi (cm) = 500\n",
    "harga_volumetrik = 5000  # harga volumetrik per kg = 5000\n",
    "\n",
    "# fungsi untuk menghitung tarif ongkos pengiriman (iteratif)\n",
    "def iteratif(df):\n",
    "    results = []  # list kosong untuk menyimpan hasil akhir\n",
    "    start_time = time.time()  # mulai menghitung running time\n",
    "\n",
    "    # menghitung running time setiap baris dengan index(mengakses baris), dan entry(isi dari baris)\n",
    "    for index, entry in df.iterrows():\n",
    "        berat_barang = entry['Berat Barang (kg)']\n",
    "        # split('x') untuk memisahkan panjang x lebar x tinggi(sehingga angka saja)\n",
    "        dimensi = entry['Dimensi Barang (cm)'].split('x') \n",
    "        # mengubah dimensi barang ke int dan mengurutkan sesuai panjang, lebar, tinggi\n",
    "        panjang, lebar, tinggi = map(int, dimensi)\n",
    "        berat_volumetrik = entry['Berat Volumetrik (kg)']\n",
    "\n",
    "        # melakukan kalkulasi sesuai daftar harga di awal\n",
    "        harga_berat_barang = berat_barang * harga_barang\n",
    "        harga_berat_dimensi = (panjang + lebar + tinggi) * harga_dimensi  \n",
    "        harga_berat_volumetrik = berat_volumetrik * harga_volumetrik  \n",
    "\n",
    "        total_tarif = harga_berat_barang + harga_berat_dimensi + harga_berat_volumetrik\n",
    "        # menambahkan hasil tarif ke list\n",
    "        results.append({\n",
    "            'ID Pengiriman': entry['ID Pengiriman'],\n",
    "            'Total Cost (IDR)': total_tarif\n",
    "        })\n",
    "\n",
    "    end_time = time.time()  # running time berhenti\n",
    "    total_running_time_iteratif = end_time - start_time  # menghitung running time akhir - awal\n",
    "    return results, total_running_time_iteratif  # mengeluarkan hasil dan running time\n",
    "\n",
    "# fungsi menghitung waktu eksekusi untuk ukuran input yang berbeda\n",
    "def running_times_iteratif(df, sizes):\n",
    "    running_times = [] # menampung hasil running time setiap jumlah inputan\n",
    "    for size in sizes:\n",
    "        # ambil subset data sesuai ukuran\n",
    "        subset_df = df.head(size)\n",
    "        _, running_time = iteratif(subset_df)\n",
    "        running_times.append(running_time)\n",
    "    return running_times\n",
    "\n",
    "if __name__ == \"__main__\":\n",
    "    sizes = [25, 50, 75, 100]  # ukuran data yang masuk ketika 25 data, 50, 75, dan 100 data.\n",
    "    # Menghitung waktu eksekusi untuk setiap ukuran\n",
    "    running_times_iteratif = running_times_iteratif(df, sizes)\n",
    "    running_times_iteratif_4 = [f\"{time:.4f}\" for time in running_times_iteratif]\n",
    "    # menampilkan hasil dengan 4 angka di belakang koma\n",
    "    print(f\"Waktu iteratif {sizes}: {running_times_iteratif_4}\")\n"
   ]
  },
  {
   "cell_type": "markdown",
   "metadata": {},
   "source": [
    "Fungsi iteratif menggunakan loop for untuk mengiterasi setiap baris data secara langsung dengan df.iterrows().\n",
    "\n",
    "Tidak ada pemanggilan fungsi berulang. Seluruh data diproses dalam satu iterasi.\n",
    "Penggunaan memori lebih efisien dibandingkan rekursif, karena tidak ada penggunaan stack yang berlebihan."
   ]
  },
  {
   "cell_type": "markdown",
   "metadata": {},
   "source": [
    "kompleksitas waktu iteratif : O(n)"
   ]
  },
  {
   "cell_type": "markdown",
   "metadata": {},
   "source": [
    "# Rekursif"
   ]
  },
  {
   "cell_type": "code",
   "execution_count": 17,
   "metadata": {},
   "outputs": [
    {
     "name": "stdout",
     "output_type": "stream",
     "text": [
      "Waktu rekursif [25, 50, 75, 100]: ['0.0180', '0.0154', '0.0413', '0.0374']\n"
     ]
    }
   ],
   "source": [
    "# fungsi untuk menghitung biaya pengiriman (rekursif)\n",
    "def rekursif(df, index=0, results=None):\n",
    "    if results is None: # jika list kosong, maka akan ditambahkan ke results\n",
    "        results = [] # dilakukan perulangan dan disimpan hasilnya disini (ditumpuk)\n",
    "    \n",
    "    if index == len(df): # jika jumlah baris = jumlah data maka akan dikeluarkan results\n",
    "        return results\n",
    "    \n",
    "    # ketentuan daftar harga\n",
    "    entry = df.iloc[index]\n",
    "    harga_barang = 10000\n",
    "    harga_dimensi = 500\n",
    "    harga_volumetrik = 5000\n",
    "    \n",
    "    # sama seperti iteratif sebelumnya\n",
    "    berat_barang = entry['Berat Barang (kg)']\n",
    "    dimensi = entry['Dimensi Barang (cm)'].split('x')\n",
    "    panjang, lebar, tinggi = map(int, dimensi)\n",
    "    berat_volumetrik = entry['Berat Volumetrik (kg)']\n",
    "\n",
    "    harga_berat_barang = berat_barang * harga_barang\n",
    "    harga_berat_dimensi = (panjang + lebar + tinggi) * harga_dimensi  \n",
    "    harga_berat_volumetrik = berat_volumetrik * harga_volumetrik  \n",
    "\n",
    "    total_harga_rekursif = harga_berat_barang + harga_berat_dimensi + harga_berat_volumetrik\n",
    "    results.append({\n",
    "        'ID Pengiriman': entry['ID Pengiriman'],\n",
    "        'Total Cost (IDR)': total_harga_rekursif\n",
    "    })\n",
    "    \n",
    "    return rekursif(df, index + 1, results)\n",
    "\n",
    "# menghitung running time berdasarkan jumlah input sizes\n",
    "def running_time_rekursif(df, sizes):\n",
    "    running_times = []\n",
    "    for size in sizes:\n",
    "        # ambil subset data\n",
    "        subset_df = df.head(size)\n",
    "        start_time = time.time()\n",
    "        rekursif(subset_df)\n",
    "        end_time = time.time()\n",
    "        running_times.append(end_time - start_time) # menghitung running time\n",
    "    return running_times\n",
    "\n",
    "if __name__ == \"__main__\":\n",
    "    sizes = [25, 50, 75, 100] # jumlah data ketika dimasukkan untuk penghitungan running time\n",
    "     # Menghitung waktu eksekusi untuk setiap ukuran\n",
    "    running_time_rekursif = running_time_rekursif(df, sizes)\n",
    "    running_time_rekursif_4 = [f\"{time:.4f}\" for time in running_time_rekursif]\n",
    "    # menampilkan hasil dengan 4 angka di belakang koma\n",
    "    print(f\"Waktu rekursif {sizes}: {running_time_rekursif_4}\")"
   ]
  },
  {
   "cell_type": "markdown",
   "metadata": {},
   "source": [
    "Fungsi rekursif memanggil dirinya sendiri secara berulang dengan memperbarui nilai index untuk memproses setiap baris data.\n",
    "\n",
    "Basis rekursi terjadi ketika index mencapai panjang df, yang menghentikan pemanggilan lebih lanjut.\n",
    "Penggunaan memori lebih besar karena setiap panggilan rekursif menyimpan status eksekusinya dalam stack."
   ]
  },
  {
   "cell_type": "markdown",
   "metadata": {},
   "source": [
    "kompleksitas waktu rekursif : O(n)"
   ]
  },
  {
   "cell_type": "markdown",
   "metadata": {},
   "source": [
    "# Visualisasi"
   ]
  },
  {
   "cell_type": "code",
   "execution_count": 19,
   "metadata": {},
   "outputs": [
    {
     "data": {
      "image/png": "[encoded data removed]",
      "text/plain": [
       "<Figure size 1000x600 with 1 Axes>"
      ]
     },
     "metadata": {},
     "output_type": "display_data"
    }
   ],
   "source": [
    "import matplotlib.pyplot as plt\n",
    "\n",
    "def visualisasi(running_times_iteratif_4, running_time_rekursif_4, sizes):\n",
    "    # Mengonversi string ke float\n",
    "    running_times_iteratif_4 = list(map(float, running_times_iteratif_4))\n",
    "    running_time_rekursif_4 = list(map(float, running_time_rekursif_4))\n",
    "\n",
    "    plt.figure(figsize=(10, 6))  # ukuran figure\n",
    "\n",
    "    # line chart iteratif\n",
    "    plt.plot(sizes, running_times_iteratif_4, 'bo-', label='Running Time Iteratif')\n",
    "    plt.scatter(sizes, running_times_iteratif_4, color='b')  # menambahkan titik untuk iteratif\n",
    "\n",
    "    # line chart rekursif\n",
    "    plt.plot(sizes, running_time_rekursif_4, 'rx-', label='Running Time Rekursif')\n",
    "    plt.scatter(sizes, running_time_rekursif_4, color='r')  # menambahkan titik untuk rekursif\n",
    "\n",
    "    # label sumbu X dan Y\n",
    "    plt.xlabel('Jumlah input data')\n",
    "    plt.ylabel('Running Time (detik)')\n",
    "\n",
    "    # judul dan grid\n",
    "    plt.title('Perbedaan Running Time Iteratif vs Rekursif')\n",
    "    plt.grid(True)\n",
    "\n",
    "    # menambahkan legenda iteratif dan rekursif di pojok kiri atas tanpa bertumpukan(bbox)\n",
    "    plt.legend(loc='upper left', bbox_to_anchor=(0, 1), frameon=False)\n",
    "\n",
    "    # menentukan rentang sumbu Y agar mencakup kedua metode iteratif dan rekursif\n",
    "    plt.ylim(min(min(running_times_iteratif_4), min(running_time_rekursif_4)) - 0.001, \n",
    "             max(max(running_times_iteratif_4), max(running_time_rekursif_4)) + 0.001)\n",
    "\n",
    "    # menampilkan plot\n",
    "    plt.show()\n",
    "\n",
    "# menjalankan fungsi\n",
    "if __name__ == \"__main__\":\n",
    "    sizes = [25, 50, 75, 100]  # ukuran data yang masuk\n",
    "    running_times_iteratif_4 = ['0.0101', '0.0115', '0.0422', '0.0285']  # waktu eksekusi iteratif\n",
    "    running_time_rekursif_4 =  ['0.0180', '0.0154', '0.0413', '0.0374']  # waktu eksekusi rekursif\n",
    "\n",
    "    visualisasi(running_times_iteratif_4, running_time_rekursif_4, sizes)"
   ]
  },
  {
   "cell_type": "markdown",
   "metadata": {},
   "source": [
    "# Kesimpulan"
   ]
  },
  {
   "cell_type": "markdown",
   "metadata": {},
   "source": [
    "1. **Kompleksitas Waktu Iteratif (O(n))**\n",
    "\n",
    "    Kita melakukan satu iterasi terhadap seluruh data (DataFrame), memproses setiap baris secara berurutan. Operasi yang dilakukan per baris adalah operasi konstan, seperti pemisahan string, konversi tipe data, dan beberapa operasi aritmatika.\n",
    "Kompleksitas waktu adalah O(n), karena kita mengiterasi seluruh n baris data.\n",
    "\n",
    "\n",
    "2. **Kompleksitas Waktu Rekursif (O(n))**\n",
    "\n",
    "    Kita menggunakan rekursi untuk mengakses setiap baris data secara bertahap. Fungsi rekursif dipanggil dengan indeks yang lebih tinggi pada setiap panggilan rekursif, hingga mencapai baris terakhir. Seperti pada iteratif, kita melakukan operasi konstan pada setiap baris, dan memanggil fungsi rekursif sebanyak n kali.Kompleksitas waktu adalah O(n), karena kita melakukan n panggilan rekursif yang masing-masing berisi operasi konstan.\n",
    "\n",
    "3. **Perbedaan dalam Penggunaan Memori**\n",
    "    Pada algoritma iteratif, kita hanya menggunakan memori yang dibutuhkan untuk menyimpan hasil sementara dalam list results. Setiap iterasi memproses satu baris data tanpa memerlukan pemanggilan fungsi berulang kali.\n",
    "    Kompleksitas ruang adalah O(n), karena kita menyimpan hasil untuk n baris.\n",
    "\n",
    "    Pada algoritma rekursif, setiap panggilan rekursif menciptakan frame baru di stack, yang menyimpan informasi terkait eksekusi fungsi saat ini. Ini menyebabkan penggunaan memori yang lebih tinggi, terutama jika data yang diproses besar.\n",
    "    Kompleksitas ruang untuk rekursi adalah O(n) karena setiap pemanggilan rekursif akan menambah satu frame ke stack, dan kita memiliki n pemanggilan rekursif.\n",
    "\n",
    "4. **Penggunaan Memori dan Efisiensi**\n",
    "    Iteratif lebih efisien dalam penggunaan memori, karena tidak ada tumpukan fungsi yang harus disimpan di memori. Algoritma ini hanya membutuhkan ruang untuk menyimpan hasil sementara dan variabel loop.\n",
    "    Rekursif cenderung lebih boros dalam hal memori, karena setiap pemanggilan fungsi harus disimpan dalam stack. Jika n terlalu besar, ini dapat menyebabkan stack overflow jika kedalaman rekursi terlalu dalam (tergantung pada batas rekursi Python).\n",
    "\n",
    "\n",
    "**Kesimpulan**:\n",
    "Kompleksitas waktu kedua algoritma adalah O(n).\n",
    "Kompleksitas ruang untuk iteratif adalah O(n), sedangkan untuk rekursif, penggunaan ruang bisa lebih tinggi (juga O(n)), namun lebih rentan terhadap masalah penggunaan memori karena tumpukan rekursi.\n",
    "\n"
   ]
  }
 ],
 "metadata": {
  "kernelspec": {
   "display_name": ".conda",
   "language": "python",
   "name": "python3"
  },
  "language_info": {
   "codemirror_mode": {
    "name": "ipython",
    "version": 3
   },
   "file_extension": ".py",
   "mimetype": "text/x-python",
   "name": "python",
   "nbconvert_exporter": "python",
   "pygments_lexer": "ipython3",
   "version": "3.11.10"
  }
 },
 "nbformat": 4,
 "nbformat_minor": 2
}
